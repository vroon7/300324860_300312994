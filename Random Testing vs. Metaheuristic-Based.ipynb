{
 "cells": [
  {
   "cell_type": "code",
   "execution_count": 5,
   "id": "c06a8b0f",
   "metadata": {},
   "outputs": [
    {
     "name": "stdout",
     "output_type": "stream",
     "text": [
      "Error Types and Frequencies:\n",
      "     Error Type  Random Testing  Metaheuristic Testing\n",
      "0       Runtime            5558                   4069\n",
      "1  Compile-Time             448                    346\n",
      "2         Other            4058                   2277\n",
      "\n",
      "Average Code Complexity:\n",
      "  Code Type  Random Testing  Metaheuristic Testing\n",
      "0  Original       62.610990             121.258219\n",
      "1   Changed       62.826411             121.609683\n",
      "\n",
      "Statistical Test Results:\n",
      "         Test  Statistic        P-Value\n",
      "0  Chi-Square  68.289615   1.482855e-15\n",
      "1      T-Test -36.153129  1.160710e-275\n"
     ]
    },
    {
     "data": {
      "image/png": "[encoded data removed]",
      "text/plain": [
       "<Figure size 720x432 with 1 Axes>"
      ]
     },
     "metadata": {
      "needs_background": "light"
     },
     "output_type": "display_data"
    },
    {
     "data": {
      "image/png": "[encoded data removed]",
      "text/plain": [
       "<Figure size 720x432 with 1 Axes>"
      ]
     },
     "metadata": {
      "needs_background": "light"
     },
     "output_type": "display_data"
    }
   ],
   "source": [
    "import pandas as pd\n",
    "import numpy as np\n",
    "import json\n",
    "import matplotlib.pyplot as plt\n",
    "from scipy.stats import chi2_contingency, ttest_ind\n",
    "from collections import Counter\n",
    "\n",
    "# Data Cleaning and Feature Extraction Functions\n",
    "def calculate_code_complexity(code):\n",
    "    line_count = len(code.split('\\n'))\n",
    "    return {'line_count': line_count}\n",
    "\n",
    "def extract_features(df):\n",
    "    df['change_type'] = df['change']\n",
    "    df['error_type'] = df['error'].apply(lambda x: 'runtime' if x == '0' else 'compile-time' if x == '-11' else 'other')\n",
    "    df['original_code_complexity'] = df['original_src'].apply(calculate_code_complexity)\n",
    "    df['changed_code_complexity'] = df['changed_src'].apply(calculate_code_complexity)\n",
    "    return df\n",
    "\n",
    "# Load data\n",
    "test_json_path = 'test.json'\n",
    "train_json_path = 'train.json'\n",
    "\n",
    "with open(test_json_path, 'r') as file:\n",
    "    test_json_data = json.load(file)\n",
    "\n",
    "with open(train_json_path, 'r') as file:\n",
    "    train_json_data = json.load(file)\n",
    "\n",
    "test_df = pd.DataFrame(test_json_data)\n",
    "train_df = pd.DataFrame(train_json_data)\n",
    "\n",
    "test_df_features = extract_features(test_df)\n",
    "train_df_features = extract_features(train_df)\n",
    "\n",
    "# Random Testing Simulation\n",
    "random_test_subset = test_df_features.sample(frac=0.5, random_state=1)\n",
    "error_types_random_test = Counter(random_test_subset['error_type'])\n",
    "average_complexity_random_test = {\n",
    "    'original': np.mean([c['line_count'] for c in random_test_subset['original_code_complexity']]),\n",
    "    'changed': np.mean([c['line_count'] for c in random_test_subset['changed_code_complexity']])\n",
    "}\n",
    "\n",
    "# Metaheuristic-Based Testing Simulation\n",
    "average_complexity_threshold = np.mean([c['line_count'] for c in test_df_features['original_code_complexity']])\n",
    "metaheuristic_test_subset = test_df_features[test_df_features['original_code_complexity'].apply(lambda x: x['line_count'] > average_complexity_threshold)]\n",
    "error_types_metaheuristic_test = Counter(metaheuristic_test_subset['error_type'])\n",
    "average_complexity_metaheuristic_test = {\n",
    "    'original': np.mean([c['line_count'] for c in metaheuristic_test_subset['original_code_complexity']]),\n",
    "    'changed': np.mean([c['line_count'] for c in metaheuristic_test_subset['changed_code_complexity']])\n",
    "}\n",
    "\n",
    "# Statistical Analysis\n",
    "contingency_table = [\n",
    "    [error_types_random_test['runtime'], error_types_metaheuristic_test['runtime']],\n",
    "    [error_types_random_test['compile-time'], error_types_metaheuristic_test['compile-time']],\n",
    "    [error_types_random_test['other'], error_types_metaheuristic_test['other']]\n",
    "]\n",
    "chi2, p_value = chi2_contingency(contingency_table)[0:2]\n",
    "\n",
    "complexity_random_original = [c['line_count'] for c in random_test_subset['original_code_complexity']]\n",
    "complexity_metaheuristic_original = [c['line_count'] for c in metaheuristic_test_subset['original_code_complexity']]\n",
    "t_statistic, p_value_complexity = ttest_ind(complexity_random_original, complexity_metaheuristic_original)\n",
    "\n",
    "# Creating tables for the results\n",
    "error_types_table = pd.DataFrame({\n",
    "    'Error Type': ['Runtime', 'Compile-Time', 'Other'],\n",
    "    'Random Testing': [error_types_random_test['runtime'], error_types_random_test['compile-time'], error_types_random_test['other']],\n",
    "    'Metaheuristic Testing': [error_types_metaheuristic_test['runtime'], error_types_metaheuristic_test['compile-time'], error_types_metaheuristic_test['other']]\n",
    "})\n",
    "\n",
    "complexity_table = pd.DataFrame({\n",
    "    'Code Type': ['Original', 'Changed'],\n",
    "    'Random Testing': [average_complexity_random_test['original'], average_complexity_random_test['changed']],\n",
    "    'Metaheuristic Testing': [average_complexity_metaheuristic_test['original'], average_complexity_metaheuristic_test['changed']]\n",
    "})\n",
    "\n",
    "statistical_tests_table = pd.DataFrame({\n",
    "    'Test': ['Chi-Square', 'T-Test'],\n",
    "    'Statistic': [chi2, t_statistic],\n",
    "    'P-Value': [p_value, p_value_complexity]\n",
    "})\n",
    "\n",
    "# Displaying the tables\n",
    "print(\"Error Types and Frequencies:\")\n",
    "print(error_types_table)\n",
    "print(\"\\nAverage Code Complexity:\")\n",
    "print(complexity_table)\n",
    "print(\"\\nStatistical Test Results:\")\n",
    "print(statistical_tests_table)\n",
    "\n",
    "# Visualization\n",
    "# Error Type Frequencies\n",
    "error_types_df = pd.DataFrame([error_types_random_test, error_types_metaheuristic_test], index=['Random', 'Metaheuristic']).T\n",
    "error_types_df.plot(kind='bar', figsize=(10, 6))\n",
    "plt.title('Error Type Frequencies')\n",
    "plt.ylabel('Frequency')\n",
    "plt.xlabel('Error Type')\n",
    "plt.xticks(rotation=0)\n",
    "plt.show()\n",
    "\n",
    "# Code Complexity Comparison\n",
    "complexity_df = pd.DataFrame([average_complexity_random_test, average_complexity_metaheuristic_test], index=['Random', 'Metaheuristic']).T\n",
    "complexity_df.plot(kind='bar', figsize=(10, 6))\n",
    "plt.title('Average Code Complexity')\n",
    "plt.ylabel('Line Count')\n",
    "plt.xlabel('Code Type')\n",
    "plt.xticks(rotation=0)\n",
    "plt.show()\n"
   ]
  },
  {
   "cell_type": "code",
   "execution_count": null,
   "id": "a0117e85",
   "metadata": {},
   "outputs": [],
   "source": []
  }
 ],
 "metadata": {
  "kernelspec": {
   "display_name": "Python 3",
   "language": "python",
   "name": "python3"
  },
  "language_info": {
   "codemirror_mode": {
    "name": "ipython",
    "version": 3
   },
   "file_extension": ".py",
   "mimetype": "text/x-python",
   "name": "python",
   "nbconvert_exporter": "python",
   "pygments_lexer": "ipython3",
   "version": "3.8.8"
  }
 },
 "nbformat": 4,
 "nbformat_minor": 5
}
